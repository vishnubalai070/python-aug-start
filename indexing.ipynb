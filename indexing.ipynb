{
 "cells": [
  {
   "cell_type": "code",
   "execution_count": 29,
   "id": "a99f125c",
   "metadata": {},
   "outputs": [
    {
     "name": "stdout",
     "output_type": "stream",
     "text": [
      "puter_technol\n",
      "compu\n",
      "hnology\n",
      "uter_tec\n",
      "er_te\n",
      "computer_techno\n",
      "ogy\n",
      "omputer_te\n",
      "_\n"
     ]
    }
   ],
   "source": [
    "a=\"computer_technology\"\n",
    "print(a[3:16])\n",
    "print(a[0:5])\n",
    "print(a[12:])\n",
    "print(a[4:12])\n",
    "print(a[6:11])\n",
    "print(a[:15])\n",
    "print(a[16:20])\n",
    "print(a[1:11])\n",
    "print(a[8])"
   ]
  },
  {
   "cell_type": "code",
   "execution_count": null,
   "id": "8e4bc7e5",
   "metadata": {},
   "outputs": [],
   "source": []
  }
 ],
 "metadata": {
  "kernelspec": {
   "display_name": "Python 3",
   "language": "python",
   "name": "python3"
  },
  "language_info": {
   "codemirror_mode": {
    "name": "ipython",
    "version": 3
   },
   "file_extension": ".py",
   "mimetype": "text/x-python",
   "name": "python",
   "nbconvert_exporter": "python",
   "pygments_lexer": "ipython3",
   "version": "3.8.8"
  }
 },
 "nbformat": 4,
 "nbformat_minor": 5
}
